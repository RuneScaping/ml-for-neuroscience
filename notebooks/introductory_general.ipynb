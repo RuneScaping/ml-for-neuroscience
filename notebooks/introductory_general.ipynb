{
 "cells": [
  {
   "cell_type": "markdown",
   "metadata": {},
   "source": [
    "# General landscape of machine learning\n",
    "\n",
    "## Machine Learning (ML)"
   ]
  },
  {
   "cell_type": "markdown",
   "metadata": {},
   "source": [
    "Machine learning is the science of using computer to predict outcomes without being explicitly programmed.\n",
    "The basic idea behind machine learning is to build algorithms based on statistical analysis that takes input data and predict an output value or response. In order to create a model we have to chose type of model that fits to our problem and subsequently we **train** the model using **training data**. \n",
    "\n",
    "There are two main types of ML algorithms: **supervised** and **unsupervised**. \n",
    "**Supervised algorithms**  require both input and known output during the process of training. Once training is completed, the model can be used to a new dataset to predict outcome.\n",
    "**Unsupervised algorithms** do not require output in the process of training, they are used to discover pattern in the data.\n",
    "\n",
    "Second main distinction between models is related to type of output. Your output can take **continuous** values, e.g., house price, IQ score, or can take **categorical** values, e.g. spam or not spam email, malignant or benign tumor.\n",
    "\n",
    "Therefore, there are four main types of problems in ML:"
   ]
  },
  {
   "cell_type": "markdown",
   "metadata": {},
   "source": [
    "\n",
    "<img src=\"../img/superv_unsuperv.png\", width=600>"
   ]
  },
  {
   "cell_type": "markdown",
   "metadata": {},
   "source": [
    "## Scikit-learn\n",
    "\n",
    "[Scikit-learn](http://scikit-learn.org/stable/) is a great Python library that allows for ease use the standard machine learning algorithms. It is also build on top of other commonly used scientific libraries like NumPy, SciPy, and matplotlib.\n",
    "Below there is a scikit-learn cheat sheet that again addresses the main classification of ML algorithms and can be used as a rough guide on how to approach problems."
   ]
  },
  {
   "cell_type": "markdown",
   "metadata": {},
   "source": [
    "<img src=\"../img/scikit-type.png\", width=800>"
   ]
  },
  {
   "cell_type": "markdown",
   "metadata": {},
   "source": [
    "Let's try to import sklearn and check some available datasets. "
   ]
  },
  {
   "cell_type": "code",
   "execution_count": 1,
   "metadata": {},
   "outputs": [
    {
     "name": "stdout",
     "output_type": "stream",
     "text": [
      "(569, 30)\n",
      "(569,)\n"
     ]
    }
   ],
   "source": [
    "from sklearn import datasets\n",
    "cancer = datasets.load_breast_cancer()\n",
    "\n",
    "X_can = cancer.data\n",
    "y_can = cancer.target\n",
    "\n",
    "print(X_can.shape)\n",
    "print(y_can.shape)"
   ]
  },
  {
   "cell_type": "markdown",
   "metadata": {},
   "source": [
    "You can see that input data ``X`` is a 2-dimensional array and the output (or response) is a one dimensional array. We can say that ``569`` is a number of available samples and ``30`` is a number of features.\n",
    "\n",
    "For this dataset we can also access a short description:"
   ]
  },
  {
   "cell_type": "code",
   "execution_count": 2,
   "metadata": {},
   "outputs": [
    {
     "name": "stdout",
     "output_type": "stream",
     "text": [
      "Breast Cancer Wisconsin (Diagnostic) Database\n",
      "=============================================\n",
      "\n",
      "Notes\n",
      "-----\n",
      "Data Set Characteristics:\n",
      "    :Number of Instances: 569\n",
      "\n",
      "    :Number of Attributes: 30 numeric, predictive attributes and the class\n",
      "\n",
      "    :Attribute Information:\n",
      "        - radius (mean of distances from center to points on the perimeter)\n",
      "        - texture (standard deviation of gray-scale values)\n",
      "        - perimeter\n",
      "        - area\n",
      "        - smoothness (local variation in radius lengths)\n",
      "        - compactness (perimeter^2 / area - 1.0)\n",
      "        - concavity (severity of concave portions of the contour)\n",
      "        - concave points (number of concave portions of the contour)\n",
      "        - symmetry \n",
      "        - fractal dimension (\"coastline approximation\" - 1)\n",
      "\n",
      "        The mean, standard error, and \"worst\" or largest (mean of the three\n",
      "        largest values) of these features were computed for each image,\n",
      "        resulting in 30 features.  For instance, field 3 is Mean Radius, field\n",
      "        13 is Radius SE, field 23 is Worst Radius.\n",
      "\n",
      "        - class:\n",
      "                - WDBC-Malignant\n",
      "                - WDBC-Benign\n",
      "\n",
      "    :Summary Statistics:\n",
      "\n",
      "    ===================================== ====== ======\n",
      "                                           Min    Max\n",
      "    ===================================== ====== ======\n",
      "    radius (mean):                        6.981  28.11\n",
      "    texture (mean):                       9.71   39.28\n",
      "    perimeter (mean):                     43.79  188.5\n",
      "    area (mean):                          143.5  2501.0\n",
      "    smoothness (mean):                    0.053  0.163\n",
      "    compactness (mean):                   0.019  0.345\n",
      "    concavity (mean):                     0.0    0.427\n",
      "    concave points (mean):                0.0    0.201\n",
      "    symmetry (mean):                      0.106  0.304\n",
      "    fractal dimension (mean):             0.05   0.097\n",
      "    radius (standard error):              0.112  2.873\n",
      "    texture (standard error):             0.36   4.885\n",
      "    perimeter (standard error):           0.757  21.98\n",
      "    area (standard error):                6.802  542.2\n",
      "    smoothness (standard error):          0.002  0.031\n",
      "    compactness (standard error):         0.002  0.135\n",
      "    concavity (standard error):           0.0    0.396\n",
      "    concave points (standard error):      0.0    0.053\n",
      "    symmetry (standard error):            0.008  0.079\n",
      "    fractal dimension (standard error):   0.001  0.03\n",
      "    radius (worst):                       7.93   36.04\n",
      "    texture (worst):                      12.02  49.54\n",
      "    perimeter (worst):                    50.41  251.2\n",
      "    area (worst):                         185.2  4254.0\n",
      "    smoothness (worst):                   0.071  0.223\n",
      "    compactness (worst):                  0.027  1.058\n",
      "    concavity (worst):                    0.0    1.252\n",
      "    concave points (worst):               0.0    0.291\n",
      "    symmetry (worst):                     0.156  0.664\n",
      "    fractal dimension (worst):            0.055  0.208\n",
      "    ===================================== ====== ======\n",
      "\n",
      "    :Missing Attribute Values: None\n",
      "\n",
      "    :Class Distribution: 212 - Malignant, 357 - Benign\n",
      "\n",
      "    :Creator:  Dr. William H. Wolberg, W. Nick Street, Olvi L. Mangasarian\n",
      "\n",
      "    :Donor: Nick Street\n",
      "\n",
      "    :Date: November, 1995\n",
      "\n",
      "This is a copy of UCI ML Breast Cancer Wisconsin (Diagnostic) datasets.\n",
      "https://goo.gl/U2Uwz2\n",
      "\n",
      "Features are computed from a digitized image of a fine needle\n",
      "aspirate (FNA) of a breast mass.  They describe\n",
      "characteristics of the cell nuclei present in the image.\n",
      "\n",
      "Separating plane described above was obtained using\n",
      "Multisurface Method-Tree (MSM-T) [K. P. Bennett, \"Decision Tree\n",
      "Construction Via Linear Programming.\" Proceedings of the 4th\n",
      "Midwest Artificial Intelligence and Cognitive Science Society,\n",
      "pp. 97-101, 1992], a classification method which uses linear\n",
      "programming to construct a decision tree.  Relevant features\n",
      "were selected using an exhaustive search in the space of 1-4\n",
      "features and 1-3 separating planes.\n",
      "\n",
      "The actual linear program used to obtain the separating plane\n",
      "in the 3-dimensional space is that described in:\n",
      "[K. P. Bennett and O. L. Mangasarian: \"Robust Linear\n",
      "Programming Discrimination of Two Linearly Inseparable Sets\",\n",
      "Optimization Methods and Software 1, 1992, 23-34].\n",
      "\n",
      "This database is also available through the UW CS ftp server:\n",
      "\n",
      "ftp ftp.cs.wisc.edu\n",
      "cd math-prog/cpo-dataset/machine-learn/WDBC/\n",
      "\n",
      "References\n",
      "----------\n",
      "   - W.N. Street, W.H. Wolberg and O.L. Mangasarian. Nuclear feature extraction \n",
      "     for breast tumor diagnosis. IS&T/SPIE 1993 International Symposium on \n",
      "     Electronic Imaging: Science and Technology, volume 1905, pages 861-870,\n",
      "     San Jose, CA, 1993.\n",
      "   - O.L. Mangasarian, W.N. Street and W.H. Wolberg. Breast cancer diagnosis and \n",
      "     prognosis via linear programming. Operations Research, 43(4), pages 570-577, \n",
      "     July-August 1995.\n",
      "   - W.H. Wolberg, W.N. Street, and O.L. Mangasarian. Machine learning techniques\n",
      "     to diagnose breast cancer from fine-needle aspirates. Cancer Letters 77 (1994) \n",
      "     163-171.\n",
      "\n"
     ]
    }
   ],
   "source": [
    "print(cancer.DESCR)"
   ]
  },
  {
   "cell_type": "markdown",
   "metadata": {},
   "source": [
    "You can see names of all features and two output classes. So we expect that the response vector will have 2 values only and we can easily check it:"
   ]
  },
  {
   "cell_type": "code",
   "execution_count": 3,
   "metadata": {},
   "outputs": [
    {
     "data": {
      "text/plain": [
       "array([0, 1])"
      ]
     },
     "execution_count": 3,
     "metadata": {},
     "output_type": "execute_result"
    }
   ],
   "source": [
    "import numpy as np\n",
    "np.unique(y_can)"
   ]
  },
  {
   "cell_type": "markdown",
   "metadata": {},
   "source": [
    "``datasets`` offers also a dataset generator. Let's try to generate and plot data with 30 samples and 1 feature. \n",
    "\n",
    "**Note**, that I will use both ``matplotlib`` and ``seaborn`` in the notebook, you can experiment with both libaries and various options."
   ]
  },
  {
   "cell_type": "code",
   "execution_count": 4,
   "metadata": {},
   "outputs": [
    {
     "data": {
      "image/png": "iVBORw0KGgoAAAANSUhEUgAAAbQAAAGoCAYAAAAuIBCmAAAABHNCSVQICAgIfAhkiAAAAAlwSFlz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\noAEAgkCgAQCCQKABAIJAoAEAgvD/AU3l3xxwHGUqAAAAAElFTkSuQmCC\n",
      "text/plain": [
       "<matplotlib.figure.Figure at 0x7fa8b6429828>"
      ]
     },
     "metadata": {},
     "output_type": "display_data"
    }
   ],
   "source": [
    "%matplotlib inline\n",
    "import matplotlib.pyplot as plt\n",
    "import seaborn as sns\n",
    "\n",
    "X, y = datasets.make_regression(n_samples=40, n_features=1, n_informative=1, random_state=0, noise=40)\n",
    "\n",
    "# using seaborn you can plot the distributions\n",
    "sns.jointplot(x=X[:,0], y=y);"
   ]
  },
  {
   "cell_type": "markdown",
   "metadata": {},
   "source": [
    "You can also use seaborn to fit a function to your data:"
   ]
  },
  {
   "cell_type": "code",
   "execution_count": 5,
   "metadata": {},
   "outputs": [
    {
     "data": {
      "image/png": "iVBORw0KGgoAAAANSUhEUgAAAbQAAAGoCAYAAAAuIBCmAAAABHNCSVQICAgIfAhkiAAAAAlwSFlz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\n",
      "text/plain": [
       "<matplotlib.figure.Figure at 0x7fa8b64292b0>"
      ]
     },
     "metadata": {},
     "output_type": "display_data"
    }
   ],
   "source": [
    "sns.jointplot(x=X[:,0], y=y, kind='reg');"
   ]
  },
  {
   "cell_type": "markdown",
   "metadata": {},
   "source": [
    "But from now we will use algorithm that are provided in ``scikit-learn``."
   ]
  },
  {
   "cell_type": "markdown",
   "metadata": {},
   "source": [
    "## Linear regression "
   ]
  },
  {
   "c