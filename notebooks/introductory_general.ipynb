{
 "cells": [
  {
   "cell_type": "markdown",
   "metadata": {},
   "source": [
    "# General landscape of machine learning\n",
    "\n",
    "## Machine Learning (ML)"
   ]
  },
  {
   "cell_type": "markdown",
   "metadata": {},
   "source": [
    "Machine learning is the science of using computer to predict outcomes without being explicitly programmed.\n",
    "The basic idea behind machine learning is to build algorithms based on statistical analysis that takes input data and predict an output value or response. In order to create a model we have to chose type of model that fits to our problem and subsequently we **train** the model using **training data**. \n",
    "\n",
    "There are two main types of ML algorithms: **supervised** and **unsupervised**. \n",
    "**Supervised algorithms**  require both input and known output during the process of training. Once training is completed, the model can be used to a new dataset to predict outcome.\n",
    "**Unsupervised algorithms** do not require output in the process of training, they are used to discover pattern in the data.\n",
    "\n",
    "Second main distinction between models is related to type of output. Your output can take **continuous** values, e.g., house price, IQ score, or can take **categorical** values, e.g. spam or not spam email, malignant or benign tumor.\n",
    "\n",
    "Therefore, there are four main types of problems in ML:"
   ]
  },
  {
   "cell_type": "markdown",
   "metadata": {},
   "source": [
    "\n",
    "<img src=\"../img/superv_unsuperv.png\", width=600>"
   ]
  },
  {
   "cell_type": "markdown",
   "metadata": {},
   "source": [
    "## Scikit-learn\n",
    "\n",
    "[Scikit-learn](http://scikit-learn.org/stable/) is a great Python library that allows for ease use the standard machine learning algorithms. It is also build on top of other commonly used scientific libraries like NumPy, SciPy, and matplotlib.\n",
    "Below there is a scikit-learn cheat sheet that again addresses the main classification of ML algorithms and can be used as a rough guide on how to approach problems."
   ]
  },
  {
   "cell_type": "markdown",
   "metadata": {},
   "source": [
    "<img src=\"../img/scikit-type.png\", width=800>"
   ]
  },
  {
   "cell_type": "markdown",
   "metadata": {},
   "source": [
    "Let's try to import sklearn and check some available datasets. "
   ]
  },
  {
   "cell_type": "code",
   "execution_count": 1,
   "metadata": {},
   "outputs": [
    {
     "name": "stdout",
     "output_type": "stream",
     "text": [
      "(569, 30)\n",
      "(569,)\n"
     ]
    }
   ],
   "source": [
    "from sklearn import datasets\n",
    "cancer = datasets.load_breast_cancer()\n",
    "\n",
    "X_can = cancer.data\n",
    "y_can = cancer.target\n",
    "\n",
    "print(X_can.shape)\n",
    "print(y_can.shape)"
   ]
  },
  {
   "cell_type": "markdown",
   "metadata": {},
   "source": [
    "You can see that input data ``X`` is a 2-dimensional array and the output (or response) is a one dimensional array. We can say that ``569`` is a number of available samples and ``30`` is a number of features.\n",
    "\n",
    "For this dataset we can also access a short description:"
   ]
  },
  {
   "cell_type": "code",
   "execution_count": 2,
   "metadata": {},
   "outputs": [
    {
     "name": "stdout",
     "output_type": "stream",
     "text": [
      "Breast Cancer Wisconsin (Diagnostic) Database\n",
      "=============================================\n",
      "\n",
      "Notes\n",
      "-----\n",
      "Data Set Characteristics:\n",
      "    :Number of Instances: 569\n",
      "\n",
      "    :Number of Attributes: 30 numeric, predictive attributes and the class\n",
      "\n",
      "    :Attribute Information:\n",
      "        - radius (mean of distances from center to points on the perimeter)\n",
      "        - texture (standard deviation of gray-scale values)\n",
      "        - perimeter\n",
      "        - area\n",
      "        - smoothness (local variation in radius lengths)\n",
      "        - compactness (perimeter^2 / area - 1.0)\n",
      "        - concavity (severity of concave portions of the contour)\n",
      "        - concave points (number of concave portions of the contour)\n",
      "        - symmetry \n",
      "        - fractal dimension (\"coastline approximation\" - 1)\n",
      "\n",
      "        The mean, standard error, and \"worst\" or largest (mean of the three\n",
      "        largest values) of these features were computed for each image,\n",
      "        resulting in 30 features.  For instance, field 3 is Mean Radius, field\n",
      "        13 is Radius SE, field 23 is Worst Radius.\n",
      "\n",
      "        - class:\n",
      "                - WDBC-Malignant\n",
      "                - WDBC-Benign\n",
      "\n",
      "    :Summary Statistics:\n",
      "\n",
      "    ===================================== ====== ======\n",
      "                                           Min    Max\n",
      "    ===================================== ====== ======\n",
      "    radius (mean):                        6.981  28.11\n",
      "    texture (mean):                       9.71   39.28\n",
      "    perimeter (mean):                     43.79  188.5\n",
      "    area (mean):                          143.5  2501.0\n",
      "    smoothness (mean):                    0.053  0.163\n",
      "    compactness (mean):                   0.019  0.345\n",
      "    concavity (mean):                     0.0    0.427\n",
      "    concave points (mean):                0.0    0.201\n",
      "    symmetry (mean):                      0.106  0.304\n",
      "    fractal dimension (mean):             0.05   0.097\n",
      "    radius (standard error):              0.112  2.873\n",
      "    texture (standard error):             0.36   4.885\n",
      "    perimeter (standard error):           0.757  21.98\n",
      "    area (standard error):                6.802  542.2\n",
      "    smoothness (standard error):          0.002  0.031\n",
      "    compactness (standard error):         0.002  0.135\n",
      "    concavity (standard error):           0.0    0.396\n",
      "    concave points (standard error):      0.0    0.053\n",
      "    symmetry (standard error):            0.008  0.079\n",
      "    fractal dimension (standard error):   0.001  0.03\n",
      "    radius (worst):                       7.93   36.04\n",
      "    texture (worst):                      12.02  49.54\n",
      "    perimeter (worst):                    50.41  251.2\n",
      "    area (worst):                         185.2  4254.0\n",
      "    smoothness (worst):                   0.071  0.223\n",
      "    compactness (worst):                  0.027  1.058\n",
      "    concavity (worst):                    0.0    1.252\n",
      "    concave points (worst):               0.0    0.291\n",
      "    symmetry (worst):                     0.156  0.664\n",
      "    fractal dimension (worst):            0.055  0.208\n",
      "    ===================================== ====== ======\n",
      "\n",
      "    :Missing Attribute Values: None\n",
      "\n",
      "    :Class Distribution: 212 - Malignant, 357 - Benign\n",
      "\n",
      "    :Creator:  Dr. William H. Wolberg, W. Nick Street, Olvi L. Mangasarian\n",
      "\n",
      "    :Donor: Nick Street\n",
      "\n",
      "    :Date: November, 1995\n",
      "\n",
      "This is a copy of UCI ML Breast Cancer Wisconsin (Diagnostic) datasets.\n",
      "https://goo.gl/U2Uwz2\n",
      "\n",
      "Features are computed from a digitized image of a fine needle\n",
      "aspirate (FNA) of a breast mass.  They describe\n",
      "characteristics of the cell nuclei present in the image.\n",
      "\n",
      "Separating plane described above was obtained using\n",
      "Multisurface Method-Tree (MSM-T) [K. P. Bennett, \"Decision Tree\n",
      "Construction Via Linear Programming.\" Proceedings of the 4th\n",
      "Midwest Artificial Intelligence and Cognitive Science Society,\n",
      "pp. 97-101, 1992], a classification method which uses linear\n",
      "programming to construct a decision tree.  Relevant features\n",
      "were selected using an exhaustive search in the space of 1-4\n",
      "features and 1-3 separating planes.\n",
      "\n",
      "The actual linear program used to obtain the separating plane\n",
      "in the 3-dimensional space is that described in:\n",
      "[K. P. Bennett and O. L. Mangasarian: \"Robust Linear\n",
      "Programming Discrimination of Two Linearly Inseparable Sets\",\n",
      "Optimization Methods and Software 1, 1992, 23-34].\n",
      "\n",
      "This database is also available through the UW CS ftp server:\n",
      "\n",
      "ftp ftp.cs.wisc.edu\n",
      "cd math-prog/cpo-dataset/machine-learn/WDBC/\n",
      "\n",
      "References\n",
      "----------\n",
      "   - W.N. Street, W.H. Wolberg and O.L. Mangasarian. Nuclear feature extraction \n",
      "     for breast tumor diagnosis. IS&T/SPIE 1993 International Symposium on \n",
      "     Electronic Imaging: Science and Technology, volume 1905, pages 861-870,\n",
      "     San Jose, CA, 1993.\n",
      "   - O.L. Mangasarian, W.N. Street and W.H. Wolberg. Breast cancer diagnosis and \n",
      "     prognosis via linear programming. Operations Research, 43(4), pages 570-577, \n",
      "     July-August 1995.\n",
      "   - W.H. Wolberg, W.N. Street, and O.L. Mangasarian. Machine learning techniques\n",
      "     to diagnose breast cancer from fine-needle aspirates. Cancer Letters 77 (1994) \n",
      "     163-171.\n",
      "\n"
     ]
    }
   ],
   "source": [
    "print(cancer.DESCR)"
   ]
  },
  {
   "cell_type": "markdown",
   "metadata": {},
   "source": [
    "You can see names of all features and two output classes. So we expect that the response vector will have 2 values only and we can easily check it:"
   ]
  },
  {
   "cell_type": "code",
   "execution_count": 3,
   "metadata": {},
   "outputs": [
    {
     "data": {
      "text/plain": [
       "array([0, 1])"
      ]
     },
     "execution_count": 3,
     "metadata": {},
     "output_type": "execute_result"
    }
   ],
   "source": [
    "import numpy as np\n",
    "np.unique(y_can)"
   ]
  },
  {
   "cell_type": "markdown",
   "metadata": {},
   "source": [
    "``datasets`` offers also a dataset generator. Let's try to generate and plot data with 30 samples and 1 feature. \n",
    "\n",
    "**Note**, that I will use both ``matplotlib`` and ``seaborn`` in the notebook, you can experiment with both libaries and various options."
   ]
  },
  {
   "cell_type": "code",
   "execution_count": 4,
   "metadata": {},
   "outputs": [
    {
     "data": {
      "image/png": "iVBORw0KGgoAAAANSUhEUgAAAbQAAAGoCAYAAAAuIBCmAAAABHNCSVQICAgIfAhkiAAAAAlwSFlz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\noAEAgkCgAQCCQKABAIJAoAEAgvD/AU3l3xxwHGUqAAAAAElFTkSuQmCC\n",
      "text/plain": [
       "<matplotlib.figure.Figure at 0x7fa8b6429828>"
      ]
     },
     "metadata": {},
     "output_type": "display_data"
    }
   ],
   "source": [
    "%matplotlib inline\n",
    "import matplotlib.pyplot as plt\n",
    "import seaborn as sns\n",
    "\n",
    "X, y = datasets.make_regression(n_samples=40, n_features=1, n_informative=1, random_state=0, noise=40)\n",
    "\n",
    "# using seaborn you can plot the distributions\n",
    "sns.jointplot(x=X[:,0], y=y);"
   ]
  },
  {
   "cell_type": "markdown",
   "metadata": {},
   "source": [
    "You can also use seaborn to fit a function to your data:"
   ]
  },
  {
   "cell_type": "code",
   "execution_count": 5,
   "metadata": {},
   "outputs": [
    {
     "data": {
      "image/png": "iVBORw0KGgoAAAANSUhEUgAAAbQAAAGoCAYAAAAuIBCmAAAABHNCSVQICAgIfAhkiAAAAAlwSFlz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\n6jp47ZPjTMhxkJNqjXWT+jT6fjtCiH4NZL8zt