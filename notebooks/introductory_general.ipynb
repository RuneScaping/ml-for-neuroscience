{
 "cells": [
  {
   "cell_type": "markdown",
   "metadata": {},
   "source": [
    "# General landscape of machine learning\n",
    "\n",
    "## Machine Learning (ML)"
   ]
  },
  {
   "cell_type": "markdown",
   "metadata": {},
   "source": [
    "Machine learning is the science of using computer to predict outcomes without being explicitly programmed.\n",
    "The basic idea behind machine learning is to build algorithms based on statistical analysis that takes input data and predict an output value or response. In order to create a model we have to chose type of model that fits to our problem and subsequently we **train** the model using **training data**. \n",
    "\n",
    "There are two main types of ML algorithms: **supervised** and **unsupervised**. \n",
    "**Supervised algorithms**  require both input and known output during the process of training. Once training is completed, the model can be used to a new dataset to predict outcome.\n",
    "**Unsupervised algorithms** do not require output in the process of training, they are used to discover pattern in the data.\n",
    "\n",
    "Second main distinction between models is related to type of output. Your output can take **continuous** values, e.g., house price, IQ score, or can take **categorical** values, e.g. spam or not spam email, malignant or benign tumor.\n",
    "\n",
    "Therefore, there are four main types of problems in ML:"
   ]
  },
  {
   "cell_type": "markdown",
   "metadata": {},
   "source": [
    "\n",
    "<img src=\"../img/superv_unsuperv.png\", width=600>"
   ]
  },
  {
   "cell_type": "markdown",
   "metadata": {},
   "source": [
    "## Scikit-learn\n",
    "\n",
    "[Scikit-learn](http://scikit-learn.org/stable/) is a great Python library that allows for ease use the standard machine learning algorithms. It is also build on top of other commonly used scientific libraries like NumPy, SciPy, and matplotlib.\n",
    "Below there is a scikit-learn cheat sheet that again addresses the main classification of ML algorithms and can be used as a rough guide on how to approach problems."
   ]
  },
  {
   "cell_type": "markdown",
   "metadata": {},
   "source": [
    "<img src=\"../img/scikit-type.png\", width=800>"
   ]
  },
  {
   "cell_type": "markdown",
   "metadata": {},
   "source": [
    "Let's try to import sklearn and check some available datasets. "
   ]
  },
  {
   "cell_type": "code",
   "execution_count": 1,
   "metadata": {},
   "outputs": [
    {
     "name": "stdout",
     "output_type": "stream",
     "text": [
      "(569, 30)\n",
      "(569,)\n"
     ]
    }
   ],
   "source": [
    "from sklearn import datasets\n",
    "cancer = datasets.load_breast_cancer()\n",
    "\n",
    "X_can = cancer.data\n",
    "y_can = cancer.target\n",
    "\n",
    "print(X_can.shape)\n",
    "print(y_can.shape)"
   ]
  },
  {
   "cell_type": "markdown",
   "metadata": {},
   "source": [
    "You can see that input data ``X`` is a 2-dimensional array and the output (or response) is a one dimensional array. We can say that ``569`` is a number of available samples and ``30`` is a number of features.\n",
    "\n",
    "For this dataset we can also access a short description:"
   ]
  },
  {
   "cell_type": "code",
   "execution_count": 2,
   "metadata": {},
   "outputs": [
    {
     "name": "stdout",
     "output_type": "stream",
     "text": [
      "Breast Cancer Wisconsin (Diagnostic) Database\n",
      "=============================================\n",
      "\n",
      "Notes\n",
      "-----\n",
      "Data Set Characteristics:\n",
      "    :Number of Instances: 569\n",
      "\n",
      "    :Number of Attributes: 30 numeric, predictive attributes and the class\n",
      "\n",
      "    :Attribute Information:\n",
      "        - radius (mean of distances from center to points on the perimeter)\n",
      "        - texture (standard deviation of gray-scale values)\n",
      "        - perimeter\n",
      "        - area\n",
      "        - smoothness (local variation in radius lengths)\n",
      "        - compactness (perimeter^2 / area - 1.0)\n",
      "        - concavity (severity of concave portions of the contour)\n",
      "        - concave points (number of concave portions of the contour)\n",
      "        - symmetry \n",
      "        - fractal dimension (\"coastline approximation\" - 1)\n",
      "\n",
      "        The mean, standard error, and \"worst\" or largest (mean of the three\n",
      "        largest values) of these features were computed for each image,\n",
      "        resulting in 30 features.  For instance, field 3 is Mean Radius, field\n",
      "        13 is Radius SE, field 23 is Worst Radius.\n",
      "\n",
      "        - class:\n",
      "                - WDBC-Malignant\n",
      "                - WDBC-Benign\n",
      "\n",
      "    :Summary Statistics:\n",
      "\n",
      "    ===================================== ====== ======\n",
      "                                           Min    Max\n",
      "    ===================================== ====== ======\n",
      "    radius (mean):                        6.981  28.11\n",
      "    texture (mean):                       9.71   39.28\n",
      "    perimeter (mean):                     43.79  188.5\n",
      "    area (mean):                          143.5  2501.0\n",
      "    smoothness (mean):                    0.053  0.163\n",
      "    compactness (mean):                   0.019  0.345\n",
      "    concavity (mean):                     0.0    0.427\n",
      "    concave points (mean):                0.0    0.201\n",
      "    symmetry (mean):                      0.106  0.304\n",
      "    fractal dimension (mean):             0.05   0.097\n",
      "    radius (standard error):              0.112  2.873\n",
      "    texture (standard error):             0.36   4.885\n",
      "    perimeter (standard error):           0.757  21.98\n",
      "    area (standard error):                6.802  542.2\n",
      "    smoothness (standard error):          0.002  0.031\n",
      "    compactness (standard error):         0.002  0.135\n",
      "    concavity (standard error):           0.0    0.396\n",
      "    concave points (standard error):      0.0    0.053\n",
      "    symmetry (standard error):            0.008  0.079\n",
      "    fractal dimension (standard error):   0.001  0.03\n",
      "    radius (worst):                       7.93   36.04\n",
      "    texture (worst):                      12.02  49.54\n",
      "    perimeter (worst):                    50.41  251.2\n",
      "    area (worst):                         185.2  4254.0\n",
      "    smoothness (worst):                   0.071  0.223\n",
      "    compactness (worst):                  0.027  1.058\n",
      "    concavity (worst):                    0.0    1.252\n",
      "    concave points (worst):               0.0    0.291\n",
      "    symmetry (worst):                     0.156  0.664\n",
      "    fractal dimension (worst):            0.055  0.208\n",
      "    ===================================== ====== ======\n",
      "\n",
      "    :Missing Attribute Values: None\n",
      "\n",
      "    :Class Distribution: 212 - Malignant, 357 - Benign\n",
      "\n",
      "    :Creator:  Dr. William H. Wolberg, W. Nick Street, Olvi L. Mangasarian\n",
      "\n",
      "    :Donor: Nick Street\n",
      "\n",
      "    :Date: November, 1995\n",
      "\n",
      "This is a copy of UCI ML Breast Cancer Wisconsin (Diagnostic) datasets.\n",
      "https://goo.gl/U2Uwz2\n",
      "\n",
      "Features are computed from a digitized image of a fine needle\n",
      "aspirate (FNA) of a breast mass.  They describe\n",
      "characteristics of the cell nuclei present in the image.\n",
      "\n",
      "Separating plane described above was obtained using\n",
      "Multisurface Method-Tree (MSM-T) [K. P. Bennett, \"Decision Tree\n",
      "Construction Via Linear Programming.\" Proceedings of the 4th\n",
      "Midwest Artificial Intelligence and Cognitive Science Society,\n",
      "pp. 97-101, 1992], a classification method which uses linear\n",
      "programming to construct a decision tree.  Relevant features\n",
      "were selected using an exhaustive search in the space of 1-4\n",
      "features and 1-3 separating planes.\n",
      "\n",
      "The actual linear program used to obtain the separating plane\n",
      "in the 3-dimensional space is that described in:\n",
      "[K. P. Bennett and O. L. Mangasarian: \"Robust Linear\n",
      "Programming Discrimination of Two Linearly Inseparable Sets\",\n",
      "Optimization Methods and Software 1, 1992, 23-34].\n",
      "\n",
      "This database is also available through the UW CS ftp server:\n",
      "\n",
      "ftp ftp.cs.wisc.edu\n",
      "cd math-prog/cpo-dataset/machine-learn/WDBC/\n",
      "\n",
      "References\n",
      "----------\n",
      "   - W.N. Street, W.H. Wolberg and O.L. Mangasarian. Nuclear feature extraction \n",
      "     for breast tumor diagnosis. IS&T/SPIE 1993 International Symposium on \n",
      "     Electronic Imaging: Science and Technology, volume 1905, pages 861-870,\n",
      "     San Jose, CA, 1993.\n",
      "   - O.L. Mangasarian, W.N. Street and W.H. Wolberg. Breast cancer diagnosis and \n",
      "     prognosis via linear programming. Operations Research, 43(4), pages 570-577, \n",
      "     July-August 1995.\n",
      "   - W.H. Wolberg, W.N. Street, and O.L. Mangasarian. Machine learning techniques\n",
      "     to diagnose breast cancer from fine-needle aspirates. Cancer Letters 77 (1994) \n",
      "     163-171.\n",
      "\n"
     ]
    }
   ],
   "source": [
    "print(cancer.DESCR)"
   ]
  },
  {
   "cell_type": "markdown",
   "metadata": {},
   "source": [
    "You can see names of all features and two output classes. So we expect that the response vector will have 2 values only and we can easily check it:"
   ]
  },
  {
   "cell_type": "code",
   "execution_count": 3,
   "metadata": {},
   "outputs": [
    {
     "data": {
      "text/plain": [
       "array([0, 1])"
      ]
     },
     "execution_count": 3,
     "metadata": {},
     "output_type": "execute_result"
    }
   ],
   "source": [
    "import numpy as np\n",
    "np.unique(y_can)"
   ]
  },
  {
   "cell_type": "markdown",
   "metadata": {},
   "source": [
    "``datasets`` offers also a dataset generator. Let's try to generate and plot data with 30 samples and 1 feature. \n",
    "\n",
    "**Note**, that I will use both ``matplotlib`` and ``seaborn`` in the notebook, you can experiment with both libaries and various options."
   ]
  },
  {
   "cell_type": "code",
   "execution_count": 4,
   "metadata": {},
   "outputs": [
    {
     "data": {
      "image/png": "iVBORw0KGgoAAAANSUhEUgAAAbQAAAGoCAYAAAAuIBCmAAAABHNCSVQICAgIfAhkiAAAAAlwSFlz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\nQxY9pknLN6p